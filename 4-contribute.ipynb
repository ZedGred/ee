{
 "cells": [
  {
   "cell_type": "code",
   "execution_count": null,
   "metadata": {},
   "outputs": [],
   "source": [
    "# copy repositoris dari github\n",
    "!git clone https://github.com/w3schools-test/w3schools-test.github.io.git #rename branch"
   ]
  },
  {
   "cell_type": "code",
   "execution_count": null,
   "metadata": {},
   "outputs": [],
   "source": [
    "# rename github \n",
    "!origin - our own fork, where we have read and write access\n",
    "!upstream - the original, where we have read-only access"
   ]
  },
  {
   "cell_type": "code",
   "execution_count": null,
   "metadata": {},
   "outputs": [],
   "source": [
    "# hapus folder di windows\n",
    "!rmdir /s tutor\n",
    "#/s = all dir\n",
    "#/q =quiet mode"
   ]
  }
 ],
 "metadata": {
  "language_info": {
   "name": "python"
  }
 },
 "nbformat": 4,
 "nbformat_minor": 2
}
